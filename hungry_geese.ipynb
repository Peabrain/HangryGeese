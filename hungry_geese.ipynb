{
 "cells": [
  {
   "cell_type": "code",
   "execution_count": 1,
   "metadata": {},
   "outputs": [
    {
     "name": "stdout",
     "output_type": "stream",
     "text": [
      "Loading environment football failed: No module named 'gfootball'\n"
     ]
    }
   ],
   "source": [
    "from kaggle_environments.envs.hungry_geese.hungry_geese import Observation, Configuration, Action, row_col"
   ]
  },
  {
   "cell_type": "code",
   "execution_count": null,
   "metadata": {},
   "outputs": [
    {
     "name": "stdout",
     "output_type": "stream",
     "text": [
      "0 WEST 1 [4, 4, 3, 3] [ True  True  True  True] [ 1.96060120e-11  3.99122742e-09 -3.27059963e-02 -3.28815069e-02]\n",
      "1 SOUTH\n",
      "0 SOUTH 1 [4, 4, 4, 4] [ True  True  True  True] [1.70792104e-11 1.62399357e-11 8.32838358e-07 8.36707929e-07]\n",
      "1 SOUTH\n",
      "0 SOUTH 1 [4, 4, 4, 4] [ True  True  True  True] [4.22235857e-09 4.20221675e-09 1.25929917e-04 1.25898890e-04]\n",
      "1 SOUTH\n",
      "0 EAST 1 [4, 4, 4, 4] [ True  True  True  True] [8.65868637e-07 1.62965748e-11 8.74022430e-07 1.37388334e-02]\n",
      "1 WEST\n",
      "0 SOUTH 2 [10, 0, 10, 9] [ True False  True  True] [ 1.92435910e-16  0.00000000e+00  4.25799327e-09 -3.28980303e-02]\n",
      "1 WEST\n",
      "0 EAST 2 [0, 10, 11, 9] [False  True  True  True] [0.00000000e+00 1.65756004e-11 8.61537870e-07 8.62241619e-07]\n",
      "1 WEST\n",
      "0 EAST 2 [9, 0, 10, 10] [ True False  True  True] [4.08541189e-09 0.00000000e+00 1.25273432e-04 1.25942906e-04]\n",
      "1 WEST\n",
      "0 SOUTH 2 [6, 0, 9, 6] [ True False  True  True] [-0.03288151  0.          0.01346086 -0.03319579]\n",
      "1 SOUTH\n",
      "Opposite action: (2, <Action.NORTH: 1>, <Action.SOUTH: 3>)\n",
      "0 EAST 3 [0, 16, 18, 14] [False  True  True  True] [0.00000000e+00 5.89215125e-19 2.59101001e-16 1.78507400e-04]\n",
      "1 SOUTH\n",
      "0 NORTH 3 [10, 0, 12, 0] [ True False  True False] [1.82093062e-02 0.00000000e+00 5.81690659e-14 0.00000000e+00]\n",
      "1 SOUTH\n",
      "0 NORTH 4 [27, 0, 0, 23] [ True False False  True] [8.66946158e-07 0.00000000e+00 0.00000000e+00 0.00000000e+00]\n",
      "1 EAST\n",
      "0 WEST 4 [28, 27, 0, 24] [ True  True False  True] [4.38204823e-09 1.26313579e-04 0.00000000e+00 0.00000000e+00]\n",
      "1 EAST\n",
      "0 WEST 4 [30, 34, 25, 0] [ True  True  True False] [8.34682855e-07 1.36590950e-02 8.59714429e-07 0.00000000e+00]\n",
      "1 EAST\n",
      "0 NORTH 5 [50, 52, 42, 0] [ True  True  True False] [4.01449025e-09 5.34231031e-14 3.62507526e-19 0.00000000e+00]\n",
      "1 EAST\n",
      "0 EAST 5 [48, 51, 0, 37] [ True  True False  True] [1.87239368e-11 1.86209762e-16 0.00000000e+00 8.51358834e-07]\n",
      "1 EAST\n",
      "0 EAST 5 [45, 0, 0, 42] [ True False False  True] [4.32493585e-09 0.00000000e+00 0.00000000e+00 1.23460324e-04]\n",
      "1 EAST\n",
      "0 EAST 5 [48, 0, 41, 49] [ True False  True  True] [8.84407739e-07 0.00000000e+00 8.65682126e-07 1.36167490e-02]\n",
      "1 NORTH\n",
      "0 NORTH 6 [63, 0, 55, 65] [ True False  True  True] [1.96640291e-11 0.00000000e+00 7.24083561e-14 1.94767332e-11]\n"
     ]
    }
   ],
   "source": [
    "import kaggle_environments\n",
    "from kaggle_environments.envs.hungry_geese.hungry_geese import greedy_agent, random_agent\n",
    "from kaggle_environments import make, evaluate, utils\n",
    "\n",
    "env = make(\"hungry_geese\", debug=True) #set debug to True to see agent internals each step\n",
    "\n",
    "env.reset()\n",
    "env.run(['first_agent.py','submission_v0.0.2.py',greedy_agent,greedy_agent])"
   ]
  },
  {
   "cell_type": "code",
   "execution_count": null,
   "metadata": {
    "scrolled": true
   },
   "outputs": [],
   "source": [
    "env.render(mode=\"ipython\",width=480, height=320)"
   ]
  },
  {
   "cell_type": "code",
   "execution_count": null,
   "metadata": {},
   "outputs": [],
   "source": [
    "env.state"
   ]
  },
  {
   "cell_type": "code",
   "execution_count": null,
   "metadata": {},
   "outputs": [],
   "source": []
  },
  {
   "cell_type": "markdown",
   "metadata": {},
   "source": [
    "#### "
   ]
  }
 ],
 "metadata": {
  "kernelspec": {
   "display_name": "Python 3",
   "language": "python",
   "name": "python3"
  },
  "language_info": {
   "codemirror_mode": {
    "name": "ipython",
    "version": 3
   },
   "file_extension": ".py",
   "mimetype": "text/x-python",
   "name": "python",
   "nbconvert_exporter": "python",
   "pygments_lexer": "ipython3",
   "version": "3.8.6"
  }
 },
 "nbformat": 4,
 "nbformat_minor": 4
}
